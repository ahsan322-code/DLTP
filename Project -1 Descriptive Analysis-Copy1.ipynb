{
 "cells": [
  {
   "cell_type": "code",
   "execution_count": 1,
   "metadata": {},
   "outputs": [
    {
     "data": {
      "text/html": [
       "<div>\n",
       "<style scoped>\n",
       "    .dataframe tbody tr th:only-of-type {\n",
       "        vertical-align: middle;\n",
       "    }\n",
       "\n",
       "    .dataframe tbody tr th {\n",
       "        vertical-align: top;\n",
       "    }\n",
       "\n",
       "    .dataframe thead th {\n",
       "        text-align: right;\n",
       "    }\n",
       "</style>\n",
       "<table border=\"1\" class=\"dataframe\">\n",
       "  <thead>\n",
       "    <tr style=\"text-align: right;\">\n",
       "      <th></th>\n",
       "      <th>order_id</th>\n",
       "      <th>order_date</th>\n",
       "      <th>ship_date</th>\n",
       "      <th>ship_mode</th>\n",
       "      <th>customer_name</th>\n",
       "      <th>segment</th>\n",
       "      <th>state</th>\n",
       "      <th>country</th>\n",
       "      <th>market</th>\n",
       "      <th>region</th>\n",
       "      <th>...</th>\n",
       "      <th>category</th>\n",
       "      <th>sub_category</th>\n",
       "      <th>product_name</th>\n",
       "      <th>sales</th>\n",
       "      <th>quantity</th>\n",
       "      <th>discount</th>\n",
       "      <th>profit</th>\n",
       "      <th>shipping_cost</th>\n",
       "      <th>order_priority</th>\n",
       "      <th>year</th>\n",
       "    </tr>\n",
       "  </thead>\n",
       "  <tbody>\n",
       "    <tr>\n",
       "      <th>0</th>\n",
       "      <td>AG-2011-2040</td>\n",
       "      <td>2011-01-01</td>\n",
       "      <td>2011-01-06</td>\n",
       "      <td>Standard Class</td>\n",
       "      <td>Toby Braunhardt</td>\n",
       "      <td>Consumer</td>\n",
       "      <td>Constantine</td>\n",
       "      <td>Algeria</td>\n",
       "      <td>Africa</td>\n",
       "      <td>Africa</td>\n",
       "      <td>...</td>\n",
       "      <td>Office Supplies</td>\n",
       "      <td>Storage</td>\n",
       "      <td>Tenex Lockers, Blue</td>\n",
       "      <td>408.300</td>\n",
       "      <td>2</td>\n",
       "      <td>0.0</td>\n",
       "      <td>106.1400</td>\n",
       "      <td>35.460</td>\n",
       "      <td>Medium</td>\n",
       "      <td>2011</td>\n",
       "    </tr>\n",
       "    <tr>\n",
       "      <th>1</th>\n",
       "      <td>IN-2011-47883</td>\n",
       "      <td>2011-01-01</td>\n",
       "      <td>2011-01-08</td>\n",
       "      <td>Standard Class</td>\n",
       "      <td>Joseph Holt</td>\n",
       "      <td>Consumer</td>\n",
       "      <td>New South Wales</td>\n",
       "      <td>Australia</td>\n",
       "      <td>APAC</td>\n",
       "      <td>Oceania</td>\n",
       "      <td>...</td>\n",
       "      <td>Office Supplies</td>\n",
       "      <td>Supplies</td>\n",
       "      <td>Acme Trimmer, High Speed</td>\n",
       "      <td>120.366</td>\n",
       "      <td>3</td>\n",
       "      <td>0.1</td>\n",
       "      <td>36.0360</td>\n",
       "      <td>9.720</td>\n",
       "      <td>Medium</td>\n",
       "      <td>2011</td>\n",
       "    </tr>\n",
       "    <tr>\n",
       "      <th>2</th>\n",
       "      <td>HU-2011-1220</td>\n",
       "      <td>2011-01-01</td>\n",
       "      <td>2011-01-05</td>\n",
       "      <td>Second Class</td>\n",
       "      <td>Annie Thurman</td>\n",
       "      <td>Consumer</td>\n",
       "      <td>Budapest</td>\n",
       "      <td>Hungary</td>\n",
       "      <td>EMEA</td>\n",
       "      <td>EMEA</td>\n",
       "      <td>...</td>\n",
       "      <td>Office Supplies</td>\n",
       "      <td>Storage</td>\n",
       "      <td>Tenex Box, Single Width</td>\n",
       "      <td>66.120</td>\n",
       "      <td>4</td>\n",
       "      <td>0.0</td>\n",
       "      <td>29.6400</td>\n",
       "      <td>8.170</td>\n",
       "      <td>High</td>\n",
       "      <td>2011</td>\n",
       "    </tr>\n",
       "    <tr>\n",
       "      <th>3</th>\n",
       "      <td>IT-2011-3647632</td>\n",
       "      <td>2011-01-01</td>\n",
       "      <td>2011-01-05</td>\n",
       "      <td>Second Class</td>\n",
       "      <td>Eugene Moren</td>\n",
       "      <td>Home Office</td>\n",
       "      <td>Stockholm</td>\n",
       "      <td>Sweden</td>\n",
       "      <td>EU</td>\n",
       "      <td>North</td>\n",
       "      <td>...</td>\n",
       "      <td>Office Supplies</td>\n",
       "      <td>Paper</td>\n",
       "      <td>Enermax Note Cards, Premium</td>\n",
       "      <td>44.865</td>\n",
       "      <td>3</td>\n",
       "      <td>0.5</td>\n",
       "      <td>-26.0550</td>\n",
       "      <td>4.820</td>\n",
       "      <td>High</td>\n",
       "      <td>2011</td>\n",
       "    </tr>\n",
       "    <tr>\n",
       "      <th>4</th>\n",
       "      <td>IN-2011-47883</td>\n",
       "      <td>2011-01-01</td>\n",
       "      <td>2011-01-08</td>\n",
       "      <td>Standard Class</td>\n",
       "      <td>Joseph Holt</td>\n",
       "      <td>Consumer</td>\n",
       "      <td>New South Wales</td>\n",
       "      <td>Australia</td>\n",
       "      <td>APAC</td>\n",
       "      <td>Oceania</td>\n",
       "      <td>...</td>\n",
       "      <td>Furniture</td>\n",
       "      <td>Furnishings</td>\n",
       "      <td>Eldon Light Bulb, Duo Pack</td>\n",
       "      <td>113.670</td>\n",
       "      <td>5</td>\n",
       "      <td>0.1</td>\n",
       "      <td>37.7700</td>\n",
       "      <td>4.700</td>\n",
       "      <td>Medium</td>\n",
       "      <td>2011</td>\n",
       "    </tr>\n",
       "    <tr>\n",
       "      <th>...</th>\n",
       "      <td>...</td>\n",
       "      <td>...</td>\n",
       "      <td>...</td>\n",
       "      <td>...</td>\n",
       "      <td>...</td>\n",
       "      <td>...</td>\n",
       "      <td>...</td>\n",
       "      <td>...</td>\n",
       "      <td>...</td>\n",
       "      <td>...</td>\n",
       "      <td>...</td>\n",
       "      <td>...</td>\n",
       "      <td>...</td>\n",
       "      <td>...</td>\n",
       "      <td>...</td>\n",
       "      <td>...</td>\n",
       "      <td>...</td>\n",
       "      <td>...</td>\n",
       "      <td>...</td>\n",
       "      <td>...</td>\n",
       "      <td>...</td>\n",
       "    </tr>\n",
       "    <tr>\n",
       "      <th>51285</th>\n",
       "      <td>CA-2014-115427</td>\n",
       "      <td>2014-12-31</td>\n",
       "      <td>2015-01-04</td>\n",
       "      <td>Standard Class</td>\n",
       "      <td>Erica Bern</td>\n",
       "      <td>Corporate</td>\n",
       "      <td>California</td>\n",
       "      <td>United States</td>\n",
       "      <td>US</td>\n",
       "      <td>West</td>\n",
       "      <td>...</td>\n",
       "      <td>Office Supplies</td>\n",
       "      <td>Binders</td>\n",
       "      <td>Cardinal Slant-D Ring Binder, Heavy Gauge Vinyl</td>\n",
       "      <td>13.904</td>\n",
       "      <td>2</td>\n",
       "      <td>0.2</td>\n",
       "      <td>4.5188</td>\n",
       "      <td>0.890</td>\n",
       "      <td>Medium</td>\n",
       "      <td>2014</td>\n",
       "    </tr>\n",
       "    <tr>\n",
       "      <th>51286</th>\n",
       "      <td>MO-2014-2560</td>\n",
       "      <td>2014-12-31</td>\n",
       "      <td>2015-01-05</td>\n",
       "      <td>Standard Class</td>\n",
       "      <td>Liz Preis</td>\n",
       "      <td>Consumer</td>\n",
       "      <td>Souss-Massa-Draâ</td>\n",
       "      <td>Morocco</td>\n",
       "      <td>Africa</td>\n",
       "      <td>Africa</td>\n",
       "      <td>...</td>\n",
       "      <td>Office Supplies</td>\n",
       "      <td>Binders</td>\n",
       "      <td>Wilson Jones Hole Reinforcements, Clear</td>\n",
       "      <td>3.990</td>\n",
       "      <td>1</td>\n",
       "      <td>0.0</td>\n",
       "      <td>0.4200</td>\n",
       "      <td>0.490</td>\n",
       "      <td>Medium</td>\n",
       "      <td>2014</td>\n",
       "    </tr>\n",
       "    <tr>\n",
       "      <th>51287</th>\n",
       "      <td>MX-2014-110527</td>\n",
       "      <td>2014-12-31</td>\n",
       "      <td>2015-01-02</td>\n",
       "      <td>Second Class</td>\n",
       "      <td>Charlotte Melton</td>\n",
       "      <td>Consumer</td>\n",
       "      <td>Managua</td>\n",
       "      <td>Nicaragua</td>\n",
       "      <td>LATAM</td>\n",
       "      <td>Central</td>\n",
       "      <td>...</td>\n",
       "      <td>Office Supplies</td>\n",
       "      <td>Labels</td>\n",
       "      <td>Hon Color Coded Labels, 5000 Label Set</td>\n",
       "      <td>26.400</td>\n",
       "      <td>3</td>\n",
       "      <td>0.0</td>\n",
       "      <td>12.3600</td>\n",
       "      <td>0.350</td>\n",
       "      <td>Medium</td>\n",
       "      <td>2014</td>\n",
       "    </tr>\n",
       "    <tr>\n",
       "      <th>51288</th>\n",
       "      <td>MX-2014-114783</td>\n",
       "      <td>2014-12-31</td>\n",
       "      <td>2015-01-06</td>\n",
       "      <td>Standard Class</td>\n",
       "      <td>Tamara Dahlen</td>\n",
       "      <td>Consumer</td>\n",
       "      <td>Chihuahua</td>\n",
       "      <td>Mexico</td>\n",
       "      <td>LATAM</td>\n",
       "      <td>North</td>\n",
       "      <td>...</td>\n",
       "      <td>Office Supplies</td>\n",
       "      <td>Labels</td>\n",
       "      <td>Hon Legal Exhibit Labels, Alphabetical</td>\n",
       "      <td>7.120</td>\n",
       "      <td>1</td>\n",
       "      <td>0.0</td>\n",
       "      <td>0.5600</td>\n",
       "      <td>0.199</td>\n",
       "      <td>Medium</td>\n",
       "      <td>2014</td>\n",
       "    </tr>\n",
       "    <tr>\n",
       "      <th>51289</th>\n",
       "      <td>CA-2014-156720</td>\n",
       "      <td>2014-12-31</td>\n",
       "      <td>2015-01-04</td>\n",
       "      <td>Standard Class</td>\n",
       "      <td>Jill Matthias</td>\n",
       "      <td>Consumer</td>\n",
       "      <td>Colorado</td>\n",
       "      <td>United States</td>\n",
       "      <td>US</td>\n",
       "      <td>West</td>\n",
       "      <td>...</td>\n",
       "      <td>Office Supplies</td>\n",
       "      <td>Fasteners</td>\n",
       "      <td>Bagged Rubber Bands</td>\n",
       "      <td>3.024</td>\n",
       "      <td>3</td>\n",
       "      <td>0.2</td>\n",
       "      <td>-0.6048</td>\n",
       "      <td>0.170</td>\n",
       "      <td>Medium</td>\n",
       "      <td>2014</td>\n",
       "    </tr>\n",
       "  </tbody>\n",
       "</table>\n",
       "<p>51290 rows × 21 columns</p>\n",
       "</div>"
      ],
      "text/plain": [
       "              order_id order_date  ship_date       ship_mode  \\\n",
       "0         AG-2011-2040 2011-01-01 2011-01-06  Standard Class   \n",
       "1        IN-2011-47883 2011-01-01 2011-01-08  Standard Class   \n",
       "2         HU-2011-1220 2011-01-01 2011-01-05    Second Class   \n",
       "3      IT-2011-3647632 2011-01-01 2011-01-05    Second Class   \n",
       "4        IN-2011-47883 2011-01-01 2011-01-08  Standard Class   \n",
       "...                ...        ...        ...             ...   \n",
       "51285   CA-2014-115427 2014-12-31 2015-01-04  Standard Class   \n",
       "51286     MO-2014-2560 2014-12-31 2015-01-05  Standard Class   \n",
       "51287   MX-2014-110527 2014-12-31 2015-01-02    Second Class   \n",
       "51288   MX-2014-114783 2014-12-31 2015-01-06  Standard Class   \n",
       "51289   CA-2014-156720 2014-12-31 2015-01-04  Standard Class   \n",
       "\n",
       "          customer_name      segment             state        country  market  \\\n",
       "0       Toby Braunhardt     Consumer       Constantine        Algeria  Africa   \n",
       "1           Joseph Holt     Consumer   New South Wales      Australia    APAC   \n",
       "2         Annie Thurman     Consumer          Budapest        Hungary    EMEA   \n",
       "3          Eugene Moren  Home Office         Stockholm         Sweden      EU   \n",
       "4           Joseph Holt     Consumer   New South Wales      Australia    APAC   \n",
       "...                 ...          ...               ...            ...     ...   \n",
       "51285        Erica Bern    Corporate        California  United States      US   \n",
       "51286         Liz Preis     Consumer  Souss-Massa-Draâ        Morocco  Africa   \n",
       "51287  Charlotte Melton     Consumer           Managua      Nicaragua   LATAM   \n",
       "51288     Tamara Dahlen     Consumer         Chihuahua         Mexico   LATAM   \n",
       "51289     Jill Matthias     Consumer          Colorado  United States      US   \n",
       "\n",
       "        region  ...         category sub_category  \\\n",
       "0       Africa  ...  Office Supplies      Storage   \n",
       "1      Oceania  ...  Office Supplies     Supplies   \n",
       "2         EMEA  ...  Office Supplies      Storage   \n",
       "3        North  ...  Office Supplies        Paper   \n",
       "4      Oceania  ...        Furniture  Furnishings   \n",
       "...        ...  ...              ...          ...   \n",
       "51285     West  ...  Office Supplies      Binders   \n",
       "51286   Africa  ...  Office Supplies      Binders   \n",
       "51287  Central  ...  Office Supplies       Labels   \n",
       "51288    North  ...  Office Supplies       Labels   \n",
       "51289     West  ...  Office Supplies    Fasteners   \n",
       "\n",
       "                                          product_name    sales  quantity  \\\n",
       "0                                  Tenex Lockers, Blue  408.300         2   \n",
       "1                             Acme Trimmer, High Speed  120.366         3   \n",
       "2                              Tenex Box, Single Width   66.120         4   \n",
       "3                          Enermax Note Cards, Premium   44.865         3   \n",
       "4                           Eldon Light Bulb, Duo Pack  113.670         5   \n",
       "...                                                ...      ...       ...   \n",
       "51285  Cardinal Slant-D Ring Binder, Heavy Gauge Vinyl   13.904         2   \n",
       "51286          Wilson Jones Hole Reinforcements, Clear    3.990         1   \n",
       "51287           Hon Color Coded Labels, 5000 Label Set   26.400         3   \n",
       "51288           Hon Legal Exhibit Labels, Alphabetical    7.120         1   \n",
       "51289                              Bagged Rubber Bands    3.024         3   \n",
       "\n",
       "       discount    profit  shipping_cost  order_priority  year  \n",
       "0           0.0  106.1400         35.460          Medium  2011  \n",
       "1           0.1   36.0360          9.720          Medium  2011  \n",
       "2           0.0   29.6400          8.170            High  2011  \n",
       "3           0.5  -26.0550          4.820            High  2011  \n",
       "4           0.1   37.7700          4.700          Medium  2011  \n",
       "...         ...       ...            ...             ...   ...  \n",
       "51285       0.2    4.5188          0.890          Medium  2014  \n",
       "51286       0.0    0.4200          0.490          Medium  2014  \n",
       "51287       0.0   12.3600          0.350          Medium  2014  \n",
       "51288       0.0    0.5600          0.199          Medium  2014  \n",
       "51289       0.2   -0.6048          0.170          Medium  2014  \n",
       "\n",
       "[51290 rows x 21 columns]"
      ]
     },
     "execution_count": 1,
     "metadata": {},
     "output_type": "execute_result"
    }
   ],
   "source": [
    "#Opening excel file\n",
    "import pandas as pd\n",
    "import matplotlib.pyplot as plt\n",
    "df = pd.read_excel('superstore_sales.xlsx')\n",
    "df\n"
   ]
  },
  {
   "cell_type": "markdown",
   "metadata": {},
   "source": [
    "# Find median, mean, St. dev of  Profit column\n",
    "    "
   ]
  },
  {
   "cell_type": "code",
   "execution_count": 29,
   "metadata": {},
   "outputs": [
    {
     "data": {
      "text/html": [
       "<div>\n",
       "<style scoped>\n",
       "    .dataframe tbody tr th:only-of-type {\n",
       "        vertical-align: middle;\n",
       "    }\n",
       "\n",
       "    .dataframe tbody tr th {\n",
       "        vertical-align: top;\n",
       "    }\n",
       "\n",
       "    .dataframe thead th {\n",
       "        text-align: right;\n",
       "    }\n",
       "</style>\n",
       "<table border=\"1\" class=\"dataframe\">\n",
       "  <thead>\n",
       "    <tr style=\"text-align: right;\">\n",
       "      <th></th>\n",
       "      <th>index</th>\n",
       "      <th>profit</th>\n",
       "    </tr>\n",
       "  </thead>\n",
       "  <tbody>\n",
       "    <tr>\n",
       "      <th>0</th>\n",
       "      <td>0</td>\n",
       "      <td>106.1400</td>\n",
       "    </tr>\n",
       "    <tr>\n",
       "      <th>1</th>\n",
       "      <td>1</td>\n",
       "      <td>36.0360</td>\n",
       "    </tr>\n",
       "    <tr>\n",
       "      <th>2</th>\n",
       "      <td>2</td>\n",
       "      <td>29.6400</td>\n",
       "    </tr>\n",
       "    <tr>\n",
       "      <th>3</th>\n",
       "      <td>3</td>\n",
       "      <td>-26.0550</td>\n",
       "    </tr>\n",
       "    <tr>\n",
       "      <th>4</th>\n",
       "      <td>4</td>\n",
       "      <td>37.7700</td>\n",
       "    </tr>\n",
       "    <tr>\n",
       "      <th>...</th>\n",
       "      <td>...</td>\n",
       "      <td>...</td>\n",
       "    </tr>\n",
       "    <tr>\n",
       "      <th>51285</th>\n",
       "      <td>51285</td>\n",
       "      <td>4.5188</td>\n",
       "    </tr>\n",
       "    <tr>\n",
       "      <th>51286</th>\n",
       "      <td>51286</td>\n",
       "      <td>0.4200</td>\n",
       "    </tr>\n",
       "    <tr>\n",
       "      <th>51287</th>\n",
       "      <td>51287</td>\n",
       "      <td>12.3600</td>\n",
       "    </tr>\n",
       "    <tr>\n",
       "      <th>51288</th>\n",
       "      <td>51288</td>\n",
       "      <td>0.5600</td>\n",
       "    </tr>\n",
       "    <tr>\n",
       "      <th>51289</th>\n",
       "      <td>51289</td>\n",
       "      <td>-0.6048</td>\n",
       "    </tr>\n",
       "  </tbody>\n",
       "</table>\n",
       "<p>51290 rows × 2 columns</p>\n",
       "</div>"
      ],
      "text/plain": [
       "       index    profit\n",
       "0          0  106.1400\n",
       "1          1   36.0360\n",
       "2          2   29.6400\n",
       "3          3  -26.0550\n",
       "4          4   37.7700\n",
       "...      ...       ...\n",
       "51285  51285    4.5188\n",
       "51286  51286    0.4200\n",
       "51287  51287   12.3600\n",
       "51288  51288    0.5600\n",
       "51289  51289   -0.6048\n",
       "\n",
       "[51290 rows x 2 columns]"
      ]
     },
     "execution_count": 29,
     "metadata": {},
     "output_type": "execute_result"
    }
   ],
   "source": [
    "#profit column from data set\n",
    "df.profit.reset_index()"
   ]
  },
  {
   "cell_type": "code",
   "execution_count": 6,
   "metadata": {},
   "outputs": [
    {
     "data": {
      "text/plain": [
       "9.24"
      ]
     },
     "execution_count": 6,
     "metadata": {},
     "output_type": "execute_result"
    }
   ],
   "source": [
    "#calculating Median , Mean , Standard deviation for PROFIT coloumn\n",
    "\n",
    "#Median for PROFIT\n",
    "df.profit.median()\n"
   ]
  },
  {
   "cell_type": "code",
   "execution_count": 7,
   "metadata": {},
   "outputs": [
    {
     "data": {
      "text/plain": [
       "28.641739545330367"
      ]
     },
     "execution_count": 7,
     "metadata": {},
     "output_type": "execute_result"
    }
   ],
   "source": [
    "#Mean for PROFIT\n",
    "df.profit.mean()"
   ]
  },
  {
   "cell_type": "code",
   "execution_count": 8,
   "metadata": {},
   "outputs": [
    {
     "data": {
      "text/plain": [
       "174.42411298385855"
      ]
     },
     "execution_count": 8,
     "metadata": {},
     "output_type": "execute_result"
    }
   ],
   "source": [
    "#Standard Deviation for PROFIT\n",
    "df.profit.std()"
   ]
  },
  {
   "cell_type": "code",
   "execution_count": null,
   "metadata": {},
   "outputs": [],
   "source": []
  },
  {
   "cell_type": "markdown",
   "metadata": {},
   "source": [
    "#  Find median, mean, St. dev of  SALES column "
   ]
  },
  {
   "cell_type": "code",
   "execution_count": 51,
   "metadata": {},
   "outputs": [
    {
     "data": {
      "text/plain": [
       "85.053"
      ]
     },
     "execution_count": 51,
     "metadata": {},
     "output_type": "execute_result"
    }
   ],
   "source": [
    "#calculating Median , Mean , Standard deviation for SALES column\n",
    "\n",
    "#Median for SALES\n",
    "df.sales.median()\n",
    "#plt.hist(df.sales.median());"
   ]
  },
  {
   "cell_type": "code",
   "execution_count": 10,
   "metadata": {},
   "outputs": [
    {
     "data": {
      "text/plain": [
       "246.49058120258002"
      ]
     },
     "execution_count": 10,
     "metadata": {},
     "output_type": "execute_result"
    }
   ],
   "source": [
    "#Mean for SALES\n",
    "df.sales.mean()"
   ]
  },
  {
   "cell_type": "code",
   "execution_count": 11,
   "metadata": {},
   "outputs": [
    {
     "data": {
      "text/plain": [
       "487.56536053856195"
      ]
     },
     "execution_count": 11,
     "metadata": {},
     "output_type": "execute_result"
    }
   ],
   "source": [
    "#Standard Deviation for SALES\n",
    "df.sales.std()"
   ]
  },
  {
   "cell_type": "markdown",
   "metadata": {},
   "source": [
    "# Find total sale in each year"
   ]
  },
  {
   "cell_type": "markdown",
   "metadata": {},
   "source": [
    "# Year 2011"
   ]
  },
  {
   "cell_type": "code",
   "execution_count": 16,
   "metadata": {
    "scrolled": true
   },
   "outputs": [
    {
     "name": "stdout",
     "output_type": "stream",
     "text": [
      "0       408.300\n",
      "1       120.366\n",
      "2        66.120\n",
      "3        44.865\n",
      "4       113.670\n",
      "         ...   \n",
      "8993     14.940\n",
      "8994     26.640\n",
      "8995     63.200\n",
      "8996     52.332\n",
      "8997     18.900\n",
      "Name: sales, Length: 8998, dtype: float64\n"
     ]
    },
    {
     "data": {
      "text/plain": [
       "2259450.89554"
      ]
     },
     "execution_count": 16,
     "metadata": {},
     "output_type": "execute_result"
    }
   ],
   "source": [
    "#total sale in 2011\n",
    "x=df.sales[df['year'] == 2011]\n",
    "print (x)\n",
    "x.sum()\n",
    "\n"
   ]
  },
  {
   "cell_type": "markdown",
   "metadata": {},
   "source": [
    "# Year 2012"
   ]
  },
  {
   "cell_type": "code",
   "execution_count": 13,
   "metadata": {},
   "outputs": [
    {
     "name": "stdout",
     "output_type": "stream",
     "text": [
      "8998     2821.7178\n",
      "8999     1229.6865\n",
      "9000      417.3400\n",
      "9001      413.3700\n",
      "9002     1188.0000\n",
      "           ...    \n",
      "19955       5.9100\n",
      "19956      13.9200\n",
      "19957      11.3100\n",
      "19958       3.6560\n",
      "19959       3.4880\n",
      "Name: sales, Length: 10962, dtype: float64\n"
     ]
    },
    {
     "data": {
      "text/plain": [
       "2677438.6944"
      ]
     },
     "execution_count": 13,
     "metadata": {},
     "output_type": "execute_result"
    }
   ],
   "source": [
    "#total sale in 2012\n",
    "x=df.sales[df['year'] == 2012]\n",
    "print (x)\n",
    "x.sum()"
   ]
  },
  {
   "cell_type": "markdown",
   "metadata": {},
   "source": [
    "# Year 2013"
   ]
  },
  {
   "cell_type": "code",
   "execution_count": 14,
   "metadata": {},
   "outputs": [
    {
     "name": "stdout",
     "output_type": "stream",
     "text": [
      "19960    1649.214\n",
      "19961    1358.280\n",
      "19962     728.568\n",
      "19963    2189.520\n",
      "19964    1362.060\n",
      "           ...   \n",
      "33754      10.080\n",
      "33755      16.520\n",
      "33756       6.384\n",
      "33757       5.904\n",
      "33758      13.020\n",
      "Name: sales, Length: 13799, dtype: float64\n"
     ]
    },
    {
     "data": {
      "text/plain": [
       "3405746.44938"
      ]
     },
     "execution_count": 14,
     "metadata": {},
     "output_type": "execute_result"
    }
   ],
   "source": [
    "#total sale in 2013\n",
    "x=df.sales[df['year'] == 2013]\n",
    "print (x)\n",
    "x.sum()"
   ]
  },
  {
   "cell_type": "markdown",
   "metadata": {},
   "source": [
    "# Year 2014"
   ]
  },
  {
   "cell_type": "code",
   "execution_count": 15,
   "metadata": {},
   "outputs": [
    {
     "name": "stdout",
     "output_type": "stream",
     "text": [
      "33759    677.4075\n",
      "33760    846.2880\n",
      "33761    332.1630\n",
      "33762    156.5120\n",
      "33763    159.7680\n",
      "           ...   \n",
      "51285     13.9040\n",
      "51286      3.9900\n",
      "51287     26.4000\n",
      "51288      7.1200\n",
      "51289      3.0240\n",
      "Name: sales, Length: 17531, dtype: float64\n"
     ]
    },
    {
     "data": {
      "text/plain": [
       "4299865.870560001"
      ]
     },
     "execution_count": 15,
     "metadata": {},
     "output_type": "execute_result"
    }
   ],
   "source": [
    "#total sale in 2014\n",
    "x=df.sales[df['year'] == 2014]\n",
    "print (x)\n",
    "x.sum()"
   ]
  },
  {
   "cell_type": "code",
   "execution_count": 22,
   "metadata": {},
   "outputs": [
    {
     "data": {
      "text/plain": [
       "Text(0.5, 1.0, 'Total Sales')"
      ]
     },
     "execution_count": 22,
     "metadata": {},
     "output_type": "execute_result"
    },
    {
     "data": {
      "image/png": "[encoded data removed]",
      "text/plain": [
       "<Figure size 576x540 with 1 Axes>"
      ]
     },
     "metadata": {
      "needs_background": "light"
     },
     "output_type": "display_data"
    }
   ],
   "source": [
    "# Results in the form of plots, graphs\n",
    "plt.figure(figsize=(8,7.5))\n",
    "year_x=[2011,2012,2013,2014]\n",
    "total_sales_y=[2259450.89554, 2677438.6944, 3405746.44938, 4299865.870560001]\n",
    "plt.bar(year_x, total_sales_y,  )\n",
    "plt.xlabel(\"Year\")\n",
    "plt.ylabel(\"Sales\")\n",
    "plt.title(\"Total Sales\")\n",
    "\n"
   ]
  },
  {
   "cell_type": "code",
   "execution_count": 20,
   "metadata": {},
   "outputs": [
    {
     "data": {
      "text/plain": [
       "Text(0.5, 1.0, 'Total Sales')"
      ]
     },
     "execution_count": 20,
     "metadata": {},
     "output_type": "execute_result"
    },
    {
     "data": {
      "image/png": "[encoded data removed]",
      "text/plain": [
       "<Figure size 432x288 with 1 Axes>"
      ]
     },
     "metadata": {
      "needs_background": "light"
     },
     "output_type": "display_data"
    }
   ],
   "source": [
    "year_x=[2011,2012,2013,2014]\n",
    "total_sales_y=[2259450.89554, 2677438.6944, 3405746.44938, 4299865.870560001]\n",
    "plt.plot(year_x, total_sales_y, \"bo-\", linewidth=2, markersize=8 )\n",
    "plt.xlabel(\"Year\")\n",
    "plt.ylabel(\"Sales\")\n",
    "plt.title(\"Total Sales\")"
   ]
  },
  {
   "cell_type": "markdown",
   "metadata": {},
   "source": [
    "# Find total numbers of each categories. "
   ]
  },
  {
   "cell_type": "code",
   "execution_count": 24,
   "metadata": {},
   "outputs": [
    {
     "data": {
      "text/plain": [
       "Office Supplies    31273\n",
       "Technology         10141\n",
       "Furniture           9876\n",
       "Name: category, dtype: int64"
      ]
     },
     "execution_count": 24,
     "metadata": {},
     "output_type": "execute_result"
    }
   ],
   "source": [
    "#Total numbers of each categories\n",
    "df.category.value_counts()"
   ]
  },
  {
   "cell_type": "code",
   "execution_count": 17,
   "metadata": {},
   "outputs": [
    {
     "data": {
      "text/plain": [
       "10141"
      ]
     },
     "execution_count": 17,
     "metadata": {},
     "output_type": "execute_result"
    }
   ],
   "source": [
    "#Total numbers of TECHNOLOGY items\n",
    "df.category.value_counts().loc['Technology']"
   ]
  },
  {
   "cell_type": "code",
   "execution_count": 18,
   "metadata": {},
   "outputs": [
    {
     "data": {
      "text/plain": [
       "9876"
      ]
     },
     "execution_count": 18,
     "metadata": {},
     "output_type": "execute_result"
    }
   ],
   "source": [
    "#Total numbers of FURNITURE items\n",
    "df.category.value_counts().loc['Furniture']"
   ]
  },
  {
   "cell_type": "code",
   "execution_count": 19,
   "metadata": {},
   "outputs": [
    {
     "data": {
      "text/plain": [
       "31273"
      ]
     },
     "execution_count": 19,
     "metadata": {},
     "output_type": "execute_result"
    }
   ],
   "source": [
    "#Total numbers of OFFICE supplies\n",
    "df.category.value_counts().loc['Office Supplies']"
   ]
  },
  {
   "cell_type": "code",
   "execution_count": 21,
   "metadata": {},
   "outputs": [
    {
     "data": {
      "image/png": "[encoded data removed]",
      "text/plain": [
       "<Figure size 576x540 with 1 Axes>"
      ]
     },
     "metadata": {
      "needs_background": "light"
     },
     "output_type": "display_data"
    }
   ],
   "source": [
    "# Results in the form of plots, graphs\n",
    "plt.figure(figsize=(8,7.5))\n",
    "category_x=['Office Supplies','Technology','Furniture']\n",
    "total_y=[31273, 10141, 9876,]\n",
    "plt.bar(category_x, total_y )\n",
    "plt.xlabel(\"Category\")\n",
    "plt.ylabel(\"Total \")\n",
    "plt.title(\"Total Number of each categories\");"
   ]
  },
  {
   "cell_type": "code",
   "execution_count": 32,
   "metadata": {},
   "outputs": [
    {
     "data": {
      "image/png": "[encoded data removed]",
      "text/plain": [
       "<Figure size 432x288 with 1 Axes>"
      ]
     },
     "metadata": {
      "needs_background": "light"
     },
     "output_type": "display_data"
    }
   ],
   "source": [
    "category_x=['Office Supplies','Technology','Furniture']\n",
    "total_y=[31273, 10141, 9876,]\n",
    "plt.plot(category_x, total_y, \"ro-\", linewidth=2, markersize=8)\n",
    "plt.xlabel(\"Category\")\n",
    "plt.ylabel(\"Total \")\n",
    "plt.title(\"Total Number of each categories\");"
   ]
  },
  {
   "cell_type": "markdown",
   "metadata": {},
   "source": [
    "# Total SALES of each categories  "
   ]
  },
  {
   "cell_type": "code",
   "execution_count": 27,
   "metadata": {},
   "outputs": [
    {
     "name": "stdout",
     "output_type": "stream",
     "text": [
      "6        314.220\n",
      "8        912.456\n",
      "13       192.870\n",
      "15       195.200\n",
      "17        69.300\n",
      "          ...   \n",
      "51256     90.930\n",
      "51259     74.800\n",
      "51263    135.960\n",
      "51274     32.592\n",
      "51275     61.974\n",
      "Name: sales, Length: 10141, dtype: float64\n"
     ]
    },
    {
     "data": {
      "text/plain": [
       "4744557.49808"
      ]
     },
     "execution_count": 27,
     "metadata": {},
     "output_type": "execute_result"
    }
   ],
   "source": [
    "#total sale of TECHNOLOGY items\n",
    "x=df.sales[df['category'] == 'Technology']\n",
    "print (x)\n",
    "x.sum()"
   ]
  },
  {
   "cell_type": "code",
   "execution_count": 21,
   "metadata": {},
   "outputs": [
    {
     "name": "stdout",
     "output_type": "stream",
     "text": [
      "4        113.6700\n",
      "9        666.8400\n",
      "11       211.1805\n",
      "12       854.4900\n",
      "14       159.4440\n",
      "           ...   \n",
      "51242     78.1200\n",
      "51246    245.1600\n",
      "51249    173.7600\n",
      "51255     43.8000\n",
      "51269    364.5900\n",
      "Name: sales, Length: 9876, dtype: float64\n"
     ]
    },
    {
     "data": {
      "text/plain": [
       "4110874.1863"
      ]
     },
     "execution_count": 21,
     "metadata": {},
     "output_type": "execute_result"
    }
   ],
   "source": [
    "#total sale of FURNITURE items\n",
    "x=df.sales[df['category'] == 'Furniture']\n",
    "print (x)\n",
    "x.sum()"
   ]
  },
  {
   "cell_type": "code",
   "execution_count": 173,
   "metadata": {},
   "outputs": [
    {
     "name": "stdout",
     "output_type": "stream",
     "text": [
      "0        408.300\n",
      "1        120.366\n",
      "2         66.120\n",
      "3         44.865\n",
      "5         55.242\n",
      "          ...   \n",
      "51285     13.904\n",
      "51286      3.990\n",
      "51287     26.400\n",
      "51288      7.120\n",
      "51289      3.024\n",
      "Name: sales, Length: 31273, dtype: float64\n"
     ]
    },
    {
     "data": {
      "text/plain": [
       "3787070.2254999997"
      ]
     },
     "execution_count": 173,
     "metadata": {},
     "output_type": "execute_result"
    }
   ],
   "source": [
    "#total sale of OFFICE supplies items\n",
    "x=df.sales[df['category'] == 'Office Supplies']\n",
    "print (x)\n",
    "x.sum()"
   ]
  },
  {
   "cell_type": "code",
   "execution_count": 20,
   "metadata": {},
   "outputs": [
    {
     "data": {
      "image/png": "[encoded data removed]",
      "text/plain": [
       "<Figure size 576x540 with 1 Axes>"
      ]
     },
     "metadata": {
      "needs_background": "light"
     },
     "output_type": "display_data"
    }
   ],
   "source": [
    "# Results in the form of plots, graphs\n",
    "plt.figure(figsize=(8,7.5))\n",
    "category_x=['Technology','Furniture','Office Supplies']\n",
    "total_sales_y=[4744557.49808, 4110874.1863, 3787070.2254999997]\n",
    "plt.bar(category_x, total_sales_y,  )\n",
    "plt.xlabel(\"Category\")\n",
    "plt.ylabel(\"Sales\")\n",
    "plt.title(\"Total Sales w.r.t each category\");"
   ]
  },
  {
   "cell_type": "code",
   "execution_count": 41,
   "metadata": {},
   "outputs": [
    {
     "data": {
      "image/png": "[encoded data removed]",
      "text/plain": [
       "<Figure size 432x288 with 1 Axes>"
      ]
     },
     "metadata": {
      "needs_background": "light"
     },
     "output_type": "display_data"
    }
   ],
   "source": [
    "category_x=['Office Supplies','Technology','Furniture']\n",
    "total_sales_y=[ 3787070.2254999997,4744557.49808, 4110874.1863,]\n",
    "plt.plot(category_x, total_sales_y, \"go-\", linewidth=2, markersize=8  )\n",
    "plt.xlabel(\"Category\")\n",
    "plt.ylabel(\"Sales\")\n",
    "plt.title(\"Total Sales w.r.t each category\");"
   ]
  },
  {
   "cell_type": "markdown",
   "metadata": {},
   "source": [
    "# Finding average order priority"
   ]
  },
  {
   "cell_type": "code",
   "execution_count": 174,
   "metadata": {},
   "outputs": [
    {
     "data": {
      "text/plain": [
       "Medium      29433\n",
       "High        15501\n",
       "Critical     3932\n",
       "Low          2424\n",
       "Name: order_priority, dtype: int64"
      ]
     },
     "execution_count": 174,
     "metadata": {},
     "output_type": "execute_result"
    }
   ],
   "source": [
    "df.order_priority.value_counts()"
   ]
  },
  {
   "cell_type": "code",
   "execution_count": 18,
   "metadata": {},
   "outputs": [
    {
     "name": "stdout",
     "output_type": "stream",
     "text": [
      "2        High\n",
      "3        High\n",
      "9        High\n",
      "10       High\n",
      "11       High\n",
      "         ... \n",
      "51266    High\n",
      "51267    High\n",
      "51268    High\n",
      "51272    High\n",
      "51278    High\n",
      "Name: order_priority, Length: 15501, dtype: object\n",
      "\n",
      "\n",
      "Average of HIGH priority order in Percentage = High    30.222266\n",
      "Name: order_priority, dtype: float64\n"
     ]
    }
   ],
   "source": [
    "#average how many orders were on HIGH priority\n",
    "x=df.order_priority[df['order_priority'] == 'High']\n",
    "\n",
    "print (x)\n",
    "\n",
    "y=x.value_counts() / 51290 * 100\n",
    "x.value_counts() \n",
    "print(\"\\n\") \n",
    "print (\"Average of HIGH priority order in Percentage =\",y)\n"
   ]
  },
  {
   "cell_type": "code",
   "execution_count": 49,
   "metadata": {},
   "outputs": [
    {
     "name": "stdout",
     "output_type": "stream",
     "text": [
      "0        Medium\n",
      "1        Medium\n",
      "4        Medium\n",
      "5        Medium\n",
      "6        Medium\n",
      "          ...  \n",
      "51285    Medium\n",
      "51286    Medium\n",
      "51287    Medium\n",
      "51288    Medium\n",
      "51289    Medium\n",
      "Name: order_priority, Length: 29433, dtype: object\n",
      "\n",
      "\n",
      "Average of MEDIUM priority order in Percentage = Medium    57.385455\n",
      "Name: order_priority, dtype: float64\n"
     ]
    }
   ],
   "source": [
    "#average how many orders were on MEDIUM priority\n",
    "x=df.order_priority[df['order_priority'] == 'Medium']\n",
    "\n",
    "print (x)\n",
    "\n",
    "y=x.value_counts() / 51290 * 100\n",
    "x.value_counts()\n",
    "print(\"\\n\")\n",
    "print (\"Average of MEDIUM priority order in Percentage =\",y)\n"
   ]
  },
  {
   "cell_type": "code",
   "execution_count": 48,
   "metadata": {},
   "outputs": [
    {
     "name": "stdout",
     "output_type": "stream",
     "text": [
      "8        Low\n",
      "14       Low\n",
      "17       Low\n",
      "18       Low\n",
      "47       Low\n",
      "        ... \n",
      "51108    Low\n",
      "51123    Low\n",
      "51136    Low\n",
      "51160    Low\n",
      "51183    Low\n",
      "Name: order_priority, Length: 2424, dtype: object\n",
      "\n",
      "\n",
      "Average of LOW priority order in Percentage = Low    4.726067\n",
      "Name: order_priority, dtype: float64\n"
     ]
    }
   ],
   "source": [
    "#average how many orders were on LOW priority\n",
    "x=df.order_priority[df['order_priority'] == 'Low']\n",
    "\n",
    "print (x)\n",
    "\n",
    "y=x.value_counts() / 51290 * 100\n",
    "x.value_counts()\n",
    "print(\"\\n\")\n",
    "print (\"Average of LOW priority order in Percentage =\",y)"
   ]
  },
  {
   "cell_type": "code",
   "execution_count": 47,
   "metadata": {},
   "outputs": [
    {
     "name": "stdout",
     "output_type": "stream",
     "text": [
      "7        Critical\n",
      "20       Critical\n",
      "75       Critical\n",
      "101      Critical\n",
      "102      Critical\n",
      "           ...   \n",
      "51205    Critical\n",
      "51238    Critical\n",
      "51241    Critical\n",
      "51242    Critical\n",
      "51277    Critical\n",
      "Name: order_priority, Length: 3932, dtype: object\n",
      "\n",
      "\n",
      "Average of CRITICAL priority order in Percentage = Critical    7.666212\n",
      "Name: order_priority, dtype: float64\n"
     ]
    }
   ],
   "source": [
    "#average  orders  on CRICTICAL priority\n",
    "x=df.order_priority[df['order_priority'] == 'Critical']\n",
    "\n",
    "print (x)\n",
    "\n",
    "y=x.value_counts() / 51290 * 100\n",
    "x.value_counts()\n",
    "print(\"\\n\")\n",
    "print (\"Average of CRITICAL priority order in Percentage =\",y)"
   ]
  },
  {
   "cell_type": "code",
   "execution_count": 19,
   "metadata": {},
   "outputs": [
    {
     "data": {
      "image/png": "[encoded data removed]",
      "text/plain": [
       "<Figure size 576x540 with 1 Axes>"
      ]
     },
     "metadata": {
      "needs_background": "light"
     },
     "output_type": "display_data"
    }
   ],
   "source": [
    "# Results in the form of plots, graphs\n",
    "plt.figure(figsize=(8,7.5))\n",
    "order_priority_x=['High','Medium','Low', 'Critical']\n",
    "avg_in_percentage_y=[30.222266, 57.385455,  4.726067, 7.666212]\n",
    "plt.bar(order_priority_x, avg_in_percentage_y )\n",
    "plt.xlabel(\"order_priority\")\n",
    "plt.ylabel(\"avg \")\n",
    "plt.title(\"Average order priority\");"
   ]
  },
  {
   "cell_type": "code",
   "execution_count": 42,
   "metadata": {},
   "outputs": [
    {
     "data": {
      "image/png": "[encoded data removed]",
      "text/plain": [
       "<Figure size 432x288 with 1 Axes>"
      ]
     },
     "metadata": {
      "needs_background": "light"
     },
     "output_type": "display_data"
    }
   ],
   "source": [
    "order_priority_x=['High','Medium','Low', 'Critical']\n",
    "avg_in_percentage_y=[30.222266, 57.385455,  4.726067, 7.666212]\n",
    "plt.plot(order_priority_x, avg_in_percentage_y, \"yo-\", linewidth=2, markersize=8)\n",
    "plt.xlabel(\"order_priority\")\n",
    "plt.ylabel(\"avg \")\n",
    "plt.title(\"Average order priority\");"
   ]
  },
  {
   "cell_type": "code",
   "execution_count": null,
   "metadata": {},
   "outputs": [],
   "source": []
  }
 ],
 "metadata": {
  "kernelspec": {
   "display_name": "Python 3",
   "language": "python",
   "name": "python3"
  },
  "language_info": {
   "codemirror_mode": {
    "name": "ipython",
    "version": 3
   },
   "file_extension": ".py",
   "mimetype": "text/x-python",
   "name": "python",
   "nbconvert_exporter": "python",
   "pygments_lexer": "ipython3",
   "version": "3.8.3"
  }
 },
 "nbformat": 4,
 "nbformat_minor": 4
}
